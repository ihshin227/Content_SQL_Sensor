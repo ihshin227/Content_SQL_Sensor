{
  "nbformat": 4,
  "nbformat_minor": 0,
  "metadata": {
    "colab": {
      "name": "Dacon_rain.ipynb",
      "provenance": [],
      "toc_visible": true,
      "machine_shape": "hm",
      "authorship_tag": "ABX9TyOM7G6h8tcC9Shlc/Rotajv",
      "include_colab_link": true
    },
    "kernelspec": {
      "name": "python3",
      "display_name": "Python 3"
    },
    "accelerator": "GPU"
  },
  "cells": [
    {
      "cell_type": "markdown",
      "metadata": {
        "id": "view-in-github",
        "colab_type": "text"
      },
      "source": [
        "<a href=\"https://colab.research.google.com/github/ihshin227/Content_SQL_Sensor/blob/master/Dacon_rain.ipynb\" target=\"_parent\"><img src=\"https://colab.research.google.com/assets/colab-badge.svg\" alt=\"Open In Colab\"/></a>"
      ]
    },
    {
      "cell_type": "code",
      "metadata": {
        "id": "p3r3kMaQ2BsA",
        "colab_type": "code",
        "outputId": "384f7245-6566-43d0-c213-1879d49b0371",
        "colab": {
          "base_uri": "https://localhost:8080/",
          "height": 125
        }
      },
      "source": [
        "from google.colab import drive\n",
        "drive.mount('/content/drive/')"
      ],
      "execution_count": 1,
      "outputs": [
        {
          "output_type": "stream",
          "text": [
            "Go to this URL in a browser: https://accounts.google.com/o/oauth2/auth?client_id=947318989803-6bn6qk8qdgf4n4g3pfee6491hc0brc4i.apps.googleusercontent.com&redirect_uri=urn%3aietf%3awg%3aoauth%3a2.0%3aoob&response_type=code&scope=email%20https%3a%2f%2fwww.googleapis.com%2fauth%2fdocs.test%20https%3a%2f%2fwww.googleapis.com%2fauth%2fdrive%20https%3a%2f%2fwww.googleapis.com%2fauth%2fdrive.photos.readonly%20https%3a%2f%2fwww.googleapis.com%2fauth%2fpeopleapi.readonly\n",
            "\n",
            "Enter your authorization code:\n",
            "··········\n",
            "Mounted at /content/drive/\n"
          ],
          "name": "stdout"
        }
      ]
    },
    {
      "cell_type": "code",
      "metadata": {
        "id": "-5zogk45wjyB",
        "colab_type": "code",
        "colab": {}
      },
      "source": [
        "import sys\n",
        "sys.path.append('/content/drive/My Drive/Colab Notebooks/dacon')"
      ],
      "execution_count": 0,
      "outputs": []
    },
    {
      "cell_type": "code",
      "metadata": {
        "id": "ZFPGhJLCwr09",
        "colab_type": "code",
        "colab": {
          "base_uri": "https://localhost:8080/",
          "height": 90
        },
        "outputId": "6da45df6-09a9-4bad-dceb-f73e0ee900b7"
      },
      "source": [
        "import glob\n",
        "import pandas as pd\n",
        "import numpy as np\n",
        "import matplotlib.pylab as plt\n",
        "import seaborn as sns\n",
        "from tqdm import tqdm\n",
        "import matplotlib.pyplot as plt\n",
        "import tensorflow as tf\n",
        "import os\n",
        "import random\n",
        "from keras.layers import Dense, Conv2D, Dropout, Conv2DTranspose, MaxPooling2D, BatchNormalization, Activation, concatenate, Input, GlobalAveragePooling2D\n",
        "from keras import Model\n",
        "import warnings\n",
        "from keras.callbacks import ModelCheckpoint\n",
        "from keras import optimizers\n",
        "from keras.callbacks import ReduceLROnPlateau"
      ],
      "execution_count": 3,
      "outputs": [
        {
          "output_type": "stream",
          "text": [
            "/usr/local/lib/python3.6/dist-packages/statsmodels/tools/_testing.py:19: FutureWarning: pandas.util.testing is deprecated. Use the functions in the public API at pandas.testing instead.\n",
            "  import pandas.util.testing as tm\n",
            "Using TensorFlow backend.\n"
          ],
          "name": "stderr"
        }
      ]
    },
    {
      "cell_type": "code",
      "metadata": {
        "id": "SNEWRmtkww_e",
        "colab_type": "code",
        "colab": {}
      },
      "source": [
        "warnings.filterwarnings(\"ignore\")\n",
        "\n",
        "# 재생산성을 위해 시드 고정\n",
        "np.random.seed(7)\n",
        "random.seed(7)\n",
        "tf.random.set_seed(7)\n",
        "\n",
        "from sklearn.metrics import f1_score"
      ],
      "execution_count": 0,
      "outputs": []
    },
    {
      "cell_type": "code",
      "metadata": {
        "id": "tn4UQaZIxM1e",
        "colab_type": "code",
        "colab": {}
      },
      "source": [
        "def mae(y_true, y_pred) :\n",
        "\t\n",
        "\ty_true, y_pred = np.array(y_true), np.array(y_pred)\n",
        "\t\n",
        "\ty_true = y_true.reshape(1, -1)[0]\n",
        "\t\n",
        "\ty_pred = y_pred.reshape(1, -1)[0]\n",
        "\t\n",
        "\tover_threshold = y_true >= 0.1\n",
        "\t\n",
        "\treturn np.mean(np.abs(y_true[over_threshold] - y_pred[over_threshold]))\n",
        "\n",
        "def fscore(y_true, y_pred):\n",
        "\t\n",
        "\ty_true, y_pred = np.array(y_true), np.array(y_pred)\n",
        "\t\n",
        "\ty_true = y_true.reshape(1, -1)[0]\n",
        "\t\n",
        "\ty_pred = y_pred.reshape(1, -1)[0]\n",
        "\t\n",
        "\tremove_NAs = y_true >= 0\n",
        "\t\n",
        "\ty_true = np.where(y_true[remove_NAs] >= 0.1, 1, 0)\n",
        "\t\n",
        "\ty_pred = np.where(y_pred[remove_NAs] >= 0.1, 1, 0)\n",
        "\t\n",
        "\treturn(f1_score(y_true, y_pred))\n",
        "\n",
        "def maeOverFscore(y_true, y_pred):\n",
        "\t\n",
        "\treturn mae(y_true, y_pred) / (fscore(y_true, y_pred) + 1e-07)\n",
        "\n",
        "def fscore_keras(y_true, y_pred):\n",
        "\tscore = tf.py_function(func=fscore, inp=[y_true, y_pred], Tout=tf.double, name='fscore_keras')\n",
        "\treturn score\n",
        "\n",
        "def maeOverFscore_keras(y_true, y_pred):\n",
        "\tscore = tf.py_function(func=maeOverFscore, inp=[y_true, y_pred], Tout=tf.double,  name='custom_mse') \n",
        "\treturn score"
      ],
      "execution_count": 0,
      "outputs": []
    },
    {
      "cell_type": "code",
      "metadata": {
        "id": "iRb9FdK10JCh",
        "colab_type": "code",
        "colab": {}
      },
      "source": [
        "from keras.utils.generic_utils import get_custom_objects\n",
        "from keras.layers import Activation\n",
        "import keras.backend as backend\n",
        "\n",
        "def swish(x):\n",
        "    \"\"\"Swish activation function.\n",
        "    # Arguments\n",
        "        x: Input tensor.\n",
        "    # Returns\n",
        "        The Swish activation: `x * sigmoid(x)`.\n",
        "    # References\n",
        "        [Searching for Activation Functions](https://arxiv.org/abs/1710.05941)\n",
        "    \"\"\"\n",
        "    if backend.backend() == 'tensorflow':\n",
        "        try:\n",
        "            # The native TF implementation has a more\n",
        "            # memory-efficient gradient implementation\n",
        "            return backend.tf.nn.swish(x)\n",
        "        except AttributeError:\n",
        "            pass\n",
        "\n",
        "    return x * backend.sigmoid(x)\n",
        "\n",
        "get_custom_objects().update({'swish': Activation(swish)})"
      ],
      "execution_count": 0,
      "outputs": []
    },
    {
      "cell_type": "code",
      "metadata": {
        "id": "4wIrtMozxnvW",
        "colab_type": "code",
        "colab": {}
      },
      "source": [
        "#from keras.utils.training_utils import multi_gpu_model\n",
        "\n",
        "def fiTest(b, epochs, batch_size, steps_per_epoch):\n",
        "\t#print(b)\n",
        "\tdef trainGenerator():\n",
        "\n",
        "\t\ttrain_path = './train'\n",
        "\t\ttrain_files = sorted(glob.glob(train_path + '/*'))\n",
        "\n",
        "\t\tfor file in train_files:\n",
        "\n",
        "\t\t\tdataset = np.load(file)\n",
        "\n",
        "\t\t\ttarget= dataset[:,:,-1].reshape(40,40,1)\n",
        "\t\t\tcutoff_labels = np.where(target < 0, 0, target)\n",
        "\t\t\tfeature = dataset[:,:,b]\n",
        "\n",
        "\t\t\t#if (cutoff_labels > 0).sum() < 50:\n",
        "\n",
        "\t\t\t\t#continue\n",
        "\n",
        "\t\t\tyield (feature, cutoff_labels)\n",
        "\n",
        "\ttrain_dataset = tf.data.Dataset.from_generator(trainGenerator, (tf.float32, tf.float32), (tf.TensorShape([40,40,len(b)]),tf.TensorShape([40,40,1])))\n",
        "\t#train_dataset = train_dataset.repeat().batch(2048).prefetch(1)\n",
        "\t#train_dataset = train_dataset.shuffle(batch_size).repeat().batch(batch_size).prefetch(1)\n",
        "\t#train_dataset = train_dataset.repeat().batch(batch_size).prefetch(1)\n",
        "\ttrain_dataset = train_dataset.repeat().batch(batch_size)\n",
        "\ttrain_dataset\n",
        "\n",
        "\n",
        "\ttest_path = './test'\n",
        "\ttest_files = sorted(glob.glob(test_path + '/*'))\n",
        "\n",
        "\tX_test = []\n",
        "\n",
        "\tfor file in tqdm(test_files, desc = 'test'):\n",
        "\n",
        "\t\tdata = np.load(file)\n",
        "\n",
        "\t\tX_test.append(data[:,:,b])\n",
        "\n",
        "\tX_test = np.array(X_test)\n",
        "\n",
        "\tdef build_model(input_layer, start_neurons):\n",
        "\n",
        "\t\t# 40 x 40 -> 20 x 20\n",
        "\t\tconv1 = Conv2D(start_neurons * 1, (3, 3), activation=\"swish\", padding=\"same\")(input_layer)\n",
        "\t\tconv1 = Conv2D(start_neurons * 1, (3, 3), activation=\"swish\", padding=\"same\")(conv1)\n",
        "\t\tpool1 = BatchNormalization()(conv1)\n",
        "\t\tpool1 = MaxPooling2D((2, 2))(pool1)\n",
        "\t\tpool1 = Dropout(0.25)(pool1)\n",
        "\n",
        "\t\t# 20 x 20 -> 10 x 10\n",
        "\t\tconv2 = Conv2D(start_neurons * 2, (3, 3), activation=\"swish\", padding=\"same\")(pool1)\n",
        "\t\tconv2 = Conv2D(start_neurons * 2, (3, 3), activation=\"swish\", padding=\"same\")(conv2)\n",
        "\t\tpool2 = BatchNormalization()(conv2)\n",
        "\t\tpool2 = MaxPooling2D((2, 2))(pool2)\n",
        "\t\tpool2 = Dropout(0.25)(pool2)\n",
        "\n",
        "\t\t# 10 x 10 \n",
        "\t\tconvm = Conv2D(start_neurons * 4, (3, 3), activation=\"swish\", padding=\"same\")(pool2)\n",
        "\n",
        "\t\t# 10 x 10 -> 20 x 20\n",
        "\t\tdeconv2 = Conv2DTranspose(start_neurons * 2, (3, 3), strides=(2, 2), padding=\"same\")(convm)\n",
        "\t\tuconv2 = concatenate([deconv2, conv2])\n",
        "\t\tuconv2 = Dropout(0.25)(uconv2)\n",
        "\t\tuconv2 = Conv2D(start_neurons * 2, (3, 3), activation=\"swish\", padding=\"same\")(uconv2)\n",
        "\t\tuconv2 = Conv2D(start_neurons * 2, (3, 3), activation=\"swish\", padding=\"same\")(uconv2)\n",
        "\t\tuconv2 = BatchNormalization()(uconv2)\n",
        "\n",
        "\t\t# 20 x 20 -> 40 x 40\n",
        "\t\tdeconv1 = Conv2DTranspose(start_neurons * 1, (3, 3), strides=(2, 2), padding=\"same\")(uconv2)\n",
        "\t\tuconv1 = concatenate([deconv1, conv1])\n",
        "\t\tuconv1 = Dropout(0.25)(uconv1)\n",
        "\t\tuconv1 = Conv2D(start_neurons * 1, (3, 3), activation=\"swish\", padding=\"same\")(uconv1)\n",
        "\t\tuconv1 = Conv2D(start_neurons * 1, (3, 3), activation=\"swish\", padding=\"same\")(uconv1)\n",
        "\t\tuconv1 = BatchNormalization()(uconv1)\n",
        "\t\tuconv1 = Dropout(0.25)(uconv1)\n",
        "\t\toutput_layer = Conv2D(1, (1,1), padding=\"same\", activation='swish')(uconv1)\n",
        "\n",
        "\t\treturn output_layer\n",
        "\n",
        "\tinput_layer = Input((40, 40, len(b)))\n",
        "\toutput_layer = build_model(input_layer, 32)\n",
        "\t\n",
        "\tcheckpoint = ModelCheckpoint(\"./model/best_modeltt.hdf5\", monitor='maeOverFscore_keras', verbose=1,\n",
        "\tsave_best_only=True, mode='auto', period=1)\n",
        "\t\n",
        "\tmodel = Model(input_layer, output_layer)\n",
        "\tsgd = optimizers.SGD(learning_rate=0.01, momentum=0.9, nesterov=True)\n",
        "\t#model = multi_gpu_model(model, gpu=4)\n",
        "\tmodel.compile(loss=\"mae\", optimizer=sgd, metrics=[maeOverFscore_keras, fscore_keras])\n",
        "\t#model.load_weights(\"./model/best_modeltt.hdf5\")\n",
        "\n",
        "\treduce_lr = ReduceLROnPlateau(monitor='val_loss', factor=0.2, patience=5, min_lr=0.001)\n",
        "  \n",
        "\tmodel_history = model.fit(train_dataset, \n",
        "\t\t\t\t\t\t\t  epochs = epochs, \n",
        "\t\t\t\t\t\t\t  verbose=1, \n",
        "\t\t\t\t\t\t\t  callbacks=[checkpoint, reduce_lr])\n",
        "\t\n",
        "\tloss_history = model_history.history[\"maeOverFscore_keras\"]\n",
        "\tnumpy_loss_history = np.array(loss_history)\n",
        "\tnp.savetxt(\"./log/loss_history.txt\", numpy_loss_history, delimiter=\",\")\n",
        "\n",
        "\tpred = model.predict(X_test)\n",
        "\tsubmission = pd.read_csv('./sample_submission.csv')\n",
        "\tsubmission.iloc[:,1:] = pred.reshape(-1, 1600)\n",
        "\tsubmission.to_csv('./output_submission.csv', index = False)"
      ],
      "execution_count": 0,
      "outputs": []
    },
    {
      "cell_type": "code",
      "metadata": {
        "id": "e1Tfh8Suxyc9",
        "colab_type": "code",
        "outputId": "d19db4fd-b6e4-4510-d33e-9a228a084b57",
        "colab": {
          "base_uri": "https://localhost:8080/",
          "height": 1000
        }
      },
      "source": [
        "a = np.array([0,1,2,4,5,6,7,8,9,11])\n",
        "b = a[np.arange(len(a))!=2]\n",
        "\n",
        "for i in range(10000):\n",
        "\tfiTest(b, 100, 1024, 75)\n",
        "#fiTest(b, 100, 32, 962*2)"
      ],
      "execution_count": 8,
      "outputs": [
        {
          "output_type": "stream",
          "text": [
            "test: 0it [00:00, ?it/s]\n"
          ],
          "name": "stderr"
        },
        {
          "output_type": "error",
          "ename": "AttributeError",
          "evalue": "ignored",
          "traceback": [
            "\u001b[0;31m---------------------------------------------------------------------------\u001b[0m",
            "\u001b[0;31mAttributeError\u001b[0m                            Traceback (most recent call last)",
            "\u001b[0;32m<ipython-input-8-0e879fc6fc46>\u001b[0m in \u001b[0;36m<module>\u001b[0;34m()\u001b[0m\n\u001b[1;32m      3\u001b[0m \u001b[0;34m\u001b[0m\u001b[0m\n\u001b[1;32m      4\u001b[0m \u001b[0;32mfor\u001b[0m \u001b[0mi\u001b[0m \u001b[0;32min\u001b[0m \u001b[0mrange\u001b[0m\u001b[0;34m(\u001b[0m\u001b[0;36m10000\u001b[0m\u001b[0;34m)\u001b[0m\u001b[0;34m:\u001b[0m\u001b[0;34m\u001b[0m\u001b[0;34m\u001b[0m\u001b[0m\n\u001b[0;32m----> 5\u001b[0;31m         \u001b[0mfiTest\u001b[0m\u001b[0;34m(\u001b[0m\u001b[0mb\u001b[0m\u001b[0;34m,\u001b[0m \u001b[0;36m100\u001b[0m\u001b[0;34m,\u001b[0m \u001b[0;36m1024\u001b[0m\u001b[0;34m,\u001b[0m \u001b[0;36m75\u001b[0m\u001b[0;34m)\u001b[0m\u001b[0;34m\u001b[0m\u001b[0;34m\u001b[0m\u001b[0m\n\u001b[0m\u001b[1;32m      6\u001b[0m \u001b[0;31m#fiTest(b, 100, 32, 962*2)\u001b[0m\u001b[0;34m\u001b[0m\u001b[0;34m\u001b[0m\u001b[0;34m\u001b[0m\u001b[0m\n",
            "\u001b[0;32m<ipython-input-7-d924869dda51>\u001b[0m in \u001b[0;36mfiTest\u001b[0;34m(b, epochs, batch_size, steps_per_epoch)\u001b[0m\n\u001b[1;32m     98\u001b[0m                                                           \u001b[0mepochs\u001b[0m \u001b[0;34m=\u001b[0m \u001b[0mepochs\u001b[0m\u001b[0;34m,\u001b[0m\u001b[0;34m\u001b[0m\u001b[0;34m\u001b[0m\u001b[0m\n\u001b[1;32m     99\u001b[0m                                                           \u001b[0mverbose\u001b[0m\u001b[0;34m=\u001b[0m\u001b[0;36m1\u001b[0m\u001b[0;34m,\u001b[0m\u001b[0;34m\u001b[0m\u001b[0;34m\u001b[0m\u001b[0m\n\u001b[0;32m--> 100\u001b[0;31m \t\t\t\t\t\t\t  callbacks=[checkpoint, reduce_lr])\n\u001b[0m\u001b[1;32m    101\u001b[0m \u001b[0;34m\u001b[0m\u001b[0m\n\u001b[1;32m    102\u001b[0m         \u001b[0mloss_history\u001b[0m \u001b[0;34m=\u001b[0m \u001b[0mmodel_history\u001b[0m\u001b[0;34m.\u001b[0m\u001b[0mhistory\u001b[0m\u001b[0;34m[\u001b[0m\u001b[0;34m\"maeOverFscore_keras\"\u001b[0m\u001b[0;34m]\u001b[0m\u001b[0;34m\u001b[0m\u001b[0;34m\u001b[0m\u001b[0m\n",
            "\u001b[0;32m/usr/local/lib/python3.6/dist-packages/keras/engine/training.py\u001b[0m in \u001b[0;36mfit\u001b[0;34m(self, x, y, batch_size, epochs, verbose, callbacks, validation_split, validation_data, shuffle, class_weight, sample_weight, initial_epoch, steps_per_epoch, validation_steps, validation_freq, max_queue_size, workers, use_multiprocessing, **kwargs)\u001b[0m\n\u001b[1;32m   1152\u001b[0m             \u001b[0msample_weight\u001b[0m\u001b[0;34m=\u001b[0m\u001b[0msample_weight\u001b[0m\u001b[0;34m,\u001b[0m\u001b[0;34m\u001b[0m\u001b[0;34m\u001b[0m\u001b[0m\n\u001b[1;32m   1153\u001b[0m             \u001b[0mclass_weight\u001b[0m\u001b[0;34m=\u001b[0m\u001b[0mclass_weight\u001b[0m\u001b[0;34m,\u001b[0m\u001b[0;34m\u001b[0m\u001b[0;34m\u001b[0m\u001b[0m\n\u001b[0;32m-> 1154\u001b[0;31m             batch_size=batch_size)\n\u001b[0m\u001b[1;32m   1155\u001b[0m \u001b[0;34m\u001b[0m\u001b[0m\n\u001b[1;32m   1156\u001b[0m         \u001b[0;31m# Prepare validation data.\u001b[0m\u001b[0;34m\u001b[0m\u001b[0;34m\u001b[0m\u001b[0;34m\u001b[0m\u001b[0m\n",
            "\u001b[0;32m/usr/local/lib/python3.6/dist-packages/keras/engine/training.py\u001b[0m in \u001b[0;36m_standardize_user_data\u001b[0;34m(self, x, y, sample_weight, class_weight, check_array_lengths, batch_size)\u001b[0m\n\u001b[1;32m    577\u001b[0m             \u001b[0mfeed_input_shapes\u001b[0m\u001b[0;34m,\u001b[0m\u001b[0;34m\u001b[0m\u001b[0;34m\u001b[0m\u001b[0m\n\u001b[1;32m    578\u001b[0m             \u001b[0mcheck_batch_axis\u001b[0m\u001b[0;34m=\u001b[0m\u001b[0;32mFalse\u001b[0m\u001b[0;34m,\u001b[0m  \u001b[0;31m# Don't enforce the batch size.\u001b[0m\u001b[0;34m\u001b[0m\u001b[0;34m\u001b[0m\u001b[0m\n\u001b[0;32m--> 579\u001b[0;31m             exception_prefix='input')\n\u001b[0m\u001b[1;32m    580\u001b[0m \u001b[0;34m\u001b[0m\u001b[0m\n\u001b[1;32m    581\u001b[0m         \u001b[0;32mif\u001b[0m \u001b[0my\u001b[0m \u001b[0;32mis\u001b[0m \u001b[0;32mnot\u001b[0m \u001b[0;32mNone\u001b[0m\u001b[0;34m:\u001b[0m\u001b[0;34m\u001b[0m\u001b[0;34m\u001b[0m\u001b[0m\n",
            "\u001b[0;32m/usr/local/lib/python3.6/dist-packages/keras/engine/training_utils.py\u001b[0m in \u001b[0;36mstandardize_input_data\u001b[0;34m(data, names, shapes, check_batch_axis, exception_prefix)\u001b[0m\n\u001b[1;32m     97\u001b[0m         \u001b[0mdata\u001b[0m \u001b[0;34m=\u001b[0m \u001b[0mdata\u001b[0m\u001b[0;34m.\u001b[0m\u001b[0mvalues\u001b[0m \u001b[0;32mif\u001b[0m \u001b[0mdata\u001b[0m\u001b[0;34m.\u001b[0m\u001b[0m__class__\u001b[0m\u001b[0;34m.\u001b[0m\u001b[0m__name__\u001b[0m \u001b[0;34m==\u001b[0m \u001b[0;34m'DataFrame'\u001b[0m \u001b[0;32melse\u001b[0m \u001b[0mdata\u001b[0m\u001b[0;34m\u001b[0m\u001b[0;34m\u001b[0m\u001b[0m\n\u001b[1;32m     98\u001b[0m         \u001b[0mdata\u001b[0m \u001b[0;34m=\u001b[0m \u001b[0;34m[\u001b[0m\u001b[0mdata\u001b[0m\u001b[0;34m]\u001b[0m\u001b[0;34m\u001b[0m\u001b[0;34m\u001b[0m\u001b[0m\n\u001b[0;32m---> 99\u001b[0;31m     \u001b[0mdata\u001b[0m \u001b[0;34m=\u001b[0m \u001b[0;34m[\u001b[0m\u001b[0mstandardize_single_array\u001b[0m\u001b[0;34m(\u001b[0m\u001b[0mx\u001b[0m\u001b[0;34m)\u001b[0m \u001b[0;32mfor\u001b[0m \u001b[0mx\u001b[0m \u001b[0;32min\u001b[0m \u001b[0mdata\u001b[0m\u001b[0;34m]\u001b[0m\u001b[0;34m\u001b[0m\u001b[0;34m\u001b[0m\u001b[0m\n\u001b[0m\u001b[1;32m    100\u001b[0m \u001b[0;34m\u001b[0m\u001b[0m\n\u001b[1;32m    101\u001b[0m     \u001b[0;32mif\u001b[0m \u001b[0mlen\u001b[0m\u001b[0;34m(\u001b[0m\u001b[0mdata\u001b[0m\u001b[0;34m)\u001b[0m \u001b[0;34m!=\u001b[0m \u001b[0mlen\u001b[0m\u001b[0;34m(\u001b[0m\u001b[0mnames\u001b[0m\u001b[0;34m)\u001b[0m\u001b[0;34m:\u001b[0m\u001b[0;34m\u001b[0m\u001b[0;34m\u001b[0m\u001b[0m\n",
            "\u001b[0;32m/usr/local/lib/python3.6/dist-packages/keras/engine/training_utils.py\u001b[0m in \u001b[0;36m<listcomp>\u001b[0;34m(.0)\u001b[0m\n\u001b[1;32m     97\u001b[0m         \u001b[0mdata\u001b[0m \u001b[0;34m=\u001b[0m \u001b[0mdata\u001b[0m\u001b[0;34m.\u001b[0m\u001b[0mvalues\u001b[0m \u001b[0;32mif\u001b[0m \u001b[0mdata\u001b[0m\u001b[0;34m.\u001b[0m\u001b[0m__class__\u001b[0m\u001b[0;34m.\u001b[0m\u001b[0m__name__\u001b[0m \u001b[0;34m==\u001b[0m \u001b[0;34m'DataFrame'\u001b[0m \u001b[0;32melse\u001b[0m \u001b[0mdata\u001b[0m\u001b[0;34m\u001b[0m\u001b[0;34m\u001b[0m\u001b[0m\n\u001b[1;32m     98\u001b[0m         \u001b[0mdata\u001b[0m \u001b[0;34m=\u001b[0m \u001b[0;34m[\u001b[0m\u001b[0mdata\u001b[0m\u001b[0;34m]\u001b[0m\u001b[0;34m\u001b[0m\u001b[0;34m\u001b[0m\u001b[0m\n\u001b[0;32m---> 99\u001b[0;31m     \u001b[0mdata\u001b[0m \u001b[0;34m=\u001b[0m \u001b[0;34m[\u001b[0m\u001b[0mstandardize_single_array\u001b[0m\u001b[0;34m(\u001b[0m\u001b[0mx\u001b[0m\u001b[0;34m)\u001b[0m \u001b[0;32mfor\u001b[0m \u001b[0mx\u001b[0m \u001b[0;32min\u001b[0m \u001b[0mdata\u001b[0m\u001b[0;34m]\u001b[0m\u001b[0;34m\u001b[0m\u001b[0;34m\u001b[0m\u001b[0m\n\u001b[0m\u001b[1;32m    100\u001b[0m \u001b[0;34m\u001b[0m\u001b[0m\n\u001b[1;32m    101\u001b[0m     \u001b[0;32mif\u001b[0m \u001b[0mlen\u001b[0m\u001b[0;34m(\u001b[0m\u001b[0mdata\u001b[0m\u001b[0;34m)\u001b[0m \u001b[0;34m!=\u001b[0m \u001b[0mlen\u001b[0m\u001b[0;34m(\u001b[0m\u001b[0mnames\u001b[0m\u001b[0;34m)\u001b[0m\u001b[0;34m:\u001b[0m\u001b[0;34m\u001b[0m\u001b[0;34m\u001b[0m\u001b[0m\n",
            "\u001b[0;32m/usr/local/lib/python3.6/dist-packages/keras/engine/training_utils.py\u001b[0m in \u001b[0;36mstandardize_single_array\u001b[0;34m(x)\u001b[0m\n\u001b[1;32m     32\u001b[0m                 'Got tensor with shape: %s' % str(shape))\n\u001b[1;32m     33\u001b[0m         \u001b[0;32mreturn\u001b[0m \u001b[0mx\u001b[0m\u001b[0;34m\u001b[0m\u001b[0;34m\u001b[0m\u001b[0m\n\u001b[0;32m---> 34\u001b[0;31m     \u001b[0;32melif\u001b[0m \u001b[0mx\u001b[0m\u001b[0;34m.\u001b[0m\u001b[0mndim\u001b[0m \u001b[0;34m==\u001b[0m \u001b[0;36m1\u001b[0m\u001b[0;34m:\u001b[0m\u001b[0;34m\u001b[0m\u001b[0;34m\u001b[0m\u001b[0m\n\u001b[0m\u001b[1;32m     35\u001b[0m         \u001b[0mx\u001b[0m \u001b[0;34m=\u001b[0m \u001b[0mnp\u001b[0m\u001b[0;34m.\u001b[0m\u001b[0mexpand_dims\u001b[0m\u001b[0;34m(\u001b[0m\u001b[0mx\u001b[0m\u001b[0;34m,\u001b[0m \u001b[0;36m1\u001b[0m\u001b[0;34m)\u001b[0m\u001b[0;34m\u001b[0m\u001b[0;34m\u001b[0m\u001b[0m\n\u001b[1;32m     36\u001b[0m     \u001b[0;32mreturn\u001b[0m \u001b[0mx\u001b[0m\u001b[0;34m\u001b[0m\u001b[0;34m\u001b[0m\u001b[0m\n",
            "\u001b[0;31mAttributeError\u001b[0m: 'BatchDataset' object has no attribute 'ndim'"
          ]
        }
      ]
    },
    {
      "cell_type": "code",
      "metadata": {
        "id": "WCL_8tmKApO-",
        "colab_type": "code",
        "colab": {}
      },
      "source": [
        "def bn_act(x, act=True):\n",
        "    x = keras.layers.BatchNormalization()(x)\n",
        "    if act == True:\n",
        "        x = keras.layers.Activation(\"relu\")(x)\n",
        "    return x\n",
        "\n",
        "def conv_block(x, filters, kernel_size=(3, 3), padding=\"same\", strides=1):\n",
        "    conv = bn_act(x)\n",
        "    conv = keras.layers.Conv2D(filters, kernel_size, padding=padding, strides=strides)(conv)\n",
        "    return conv\n",
        "\n",
        "def stem(x, filters, kernel_size=(3, 3), padding=\"same\", strides=1):\n",
        "    conv = keras.layers.Conv2D(filters, kernel_size, padding=padding, strides=strides)(x)\n",
        "    conv = conv_block(conv, filters, kernel_size=kernel_size, padding=padding, strides=strides)\n",
        "    \n",
        "    shortcut = keras.layers.Conv2D(filters, kernel_size=(1, 1), padding=padding, strides=strides)(x)\n",
        "    shortcut = bn_act(shortcut, act=False)\n",
        "    \n",
        "    output = keras.layers.Add()([conv, shortcut])\n",
        "    return output\n",
        "\n",
        "def residual_block(x, filters, kernel_size=(3, 3), padding=\"same\", strides=1):\n",
        "    res = conv_block(x, filters, kernel_size=kernel_size, padding=padding, strides=strides)\n",
        "    res = conv_block(res, filters, kernel_size=kernel_size, padding=padding, strides=1)\n",
        "    \n",
        "    shortcut = keras.layers.Conv2D(filters, kernel_size=(1, 1), padding=padding, strides=strides)(x)\n",
        "    shortcut = bn_act(shortcut, act=False)\n",
        "    \n",
        "    output = keras.layers.Add()([shortcut, res])\n",
        "    return output\n",
        "\n",
        "def upsample_concat_block(x, xskip):\n",
        "    u = keras.layers.UpSampling2D((2, 2))(x)\n",
        "    c = keras.layers.Concatenate()([u, xskip])\n",
        "    return c"
      ],
      "execution_count": 0,
      "outputs": []
    },
    {
      "cell_type": "code",
      "metadata": {
        "id": "btldw0f-AqV0",
        "colab_type": "code",
        "colab": {}
      },
      "source": [
        "def ResUNet(input_layer, start_neurons):\n",
        "    f = [start_neurons, start_neurons*2, start_neurons*4, start_neurons*8, start_neurons*16]\n",
        "    \n",
        "    ## Encoder\n",
        "    e0 = inputs\n",
        "    e1 = stem(e0, f[0])\n",
        "    e2 = residual_block(e1, f[1], strides=2)\n",
        "    e3 = residual_block(e2, f[2], strides=2)\n",
        "    e4 = residual_block(e3, f[3], strides=2)\n",
        "    e5 = residual_block(e4, f[4], strides=2)\n",
        "    \n",
        "    ## Bridge\n",
        "    b0 = conv_block(e5, f[4], strides=1)\n",
        "    b1 = conv_block(b0, f[4], strides=1)\n",
        "    \n",
        "    ## Decoder\n",
        "    u1 = upsample_concat_block(b1, e4)\n",
        "    d1 = residual_block(u1, f[4])\n",
        "    \n",
        "    u2 = upsample_concat_block(d1, e3)\n",
        "    d2 = residual_block(u2, f[3])\n",
        "    \n",
        "    u3 = upsample_concat_block(d2, e2)\n",
        "    d3 = residual_block(u3, f[2])\n",
        "    \n",
        "    u4 = upsample_concat_block(d3, e1)\n",
        "    d4 = residual_block(u4, f[1])\n",
        "    \n",
        "    outputs = keras.layers.Conv2D(1, (1, 1), padding=\"same\", activation=\"sigmoid\")(d4)\n",
        "    model = keras.models.Model(inputs, outputs)\n",
        "    return model"
      ],
      "execution_count": 0,
      "outputs": []
    },
    {
      "cell_type": "code",
      "metadata": {
        "id": "FDXcMHKaBjo2",
        "colab_type": "code",
        "outputId": "691325f4-8010-4041-9c0e-ffcffa7bea72",
        "colab": {
          "base_uri": "https://localhost:8080/",
          "height": 35
        }
      },
      "source": [
        "tf.__version__"
      ],
      "execution_count": 0,
      "outputs": [
        {
          "output_type": "execute_result",
          "data": {
            "text/plain": [
              "'2.2.0-rc3'"
            ]
          },
          "metadata": {
            "tags": []
          },
          "execution_count": 43
        }
      ]
    },
    {
      "cell_type": "code",
      "metadata": {
        "id": "otuYbiaL_jIn",
        "colab_type": "code",
        "colab": {}
      },
      "source": [
        ""
      ],
      "execution_count": 0,
      "outputs": []
    }
  ]
}